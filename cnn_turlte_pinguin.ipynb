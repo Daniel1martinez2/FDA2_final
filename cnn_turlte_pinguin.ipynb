{
 "cells": [
  {
   "cell_type": "code",
   "execution_count": 1,
   "metadata": {},
   "outputs": [],
   "source": [
    "import os\n",
    "import sys\n",
    "import pandas as pd\n",
    "import shutil\n",
    "from sklearn.model_selection import train_test_split"
   ]
  },
  {
   "cell_type": "code",
   "execution_count": null,
   "metadata": {},
   "outputs": [
    {
     "name": "stdout",
     "output_type": "stream",
     "text": [
      "class_id\n",
      "2    190\n",
      "1    189\n",
      "Name: count, dtype: int64\n",
      "class_id\n",
      "1    48\n",
      "2    47\n",
      "Name: count, dtype: int64\n"
     ]
    }
   ],
   "source": [
    "path = 'AF_dataset'\n",
    "train_info = pd.read_csv(f'{path}/train.csv')\n",
    "\n",
    "X = train_info['filename']\n",
    "y = train_info['class_id']\n",
    "\n",
    "data = pd.concat([X, y], axis=1)\t\n",
    "\n",
    "X_train, X_test, y_train, y_test = train_test_split(X, y, test_size=0.2, stratify=y, random_state=42)\n",
    "\n",
    "train_data = pd.concat([X_train, y_train], axis=1)\n",
    "test_data = pd.concat([X_test, y_test], axis=1)\n",
    "\n",
    "print(y_train.value_counts())\n",
    "print(y_test.value_counts())"
   ]
  },
  {
   "cell_type": "code",
   "execution_count": 8,
   "metadata": {},
   "outputs": [
    {
     "data": {
      "text/html": [
       "<div>\n",
       "<style scoped>\n",
       "    .dataframe tbody tr th:only-of-type {\n",
       "        vertical-align: middle;\n",
       "    }\n",
       "\n",
       "    .dataframe tbody tr th {\n",
       "        vertical-align: top;\n",
       "    }\n",
       "\n",
       "    .dataframe thead th {\n",
       "        text-align: right;\n",
       "    }\n",
       "</style>\n",
       "<table border=\"1\" class=\"dataframe\">\n",
       "  <thead>\n",
       "    <tr style=\"text-align: right;\">\n",
       "      <th></th>\n",
       "      <th>filename</th>\n",
       "      <th>class_id</th>\n",
       "    </tr>\n",
       "  </thead>\n",
       "  <tbody>\n",
       "    <tr>\n",
       "      <th>191</th>\n",
       "      <td>image_id_233_.jpg</td>\n",
       "      <td>2</td>\n",
       "    </tr>\n",
       "    <tr>\n",
       "      <th>213</th>\n",
       "      <td>image_id_258_.jpg</td>\n",
       "      <td>1</td>\n",
       "    </tr>\n",
       "    <tr>\n",
       "      <th>165</th>\n",
       "      <td>image_id_201_.jpg</td>\n",
       "      <td>2</td>\n",
       "    </tr>\n",
       "    <tr>\n",
       "      <th>269</th>\n",
       "      <td>image_id_325_.jpg</td>\n",
       "      <td>2</td>\n",
       "    </tr>\n",
       "    <tr>\n",
       "      <th>246</th>\n",
       "      <td>image_id_297_.jpg</td>\n",
       "      <td>2</td>\n",
       "    </tr>\n",
       "    <tr>\n",
       "      <th>...</th>\n",
       "      <td>...</td>\n",
       "      <td>...</td>\n",
       "    </tr>\n",
       "    <tr>\n",
       "      <th>368</th>\n",
       "      <td>image_id_447_.jpg</td>\n",
       "      <td>1</td>\n",
       "    </tr>\n",
       "    <tr>\n",
       "      <th>72</th>\n",
       "      <td>image_id_088_.jpg</td>\n",
       "      <td>2</td>\n",
       "    </tr>\n",
       "    <tr>\n",
       "      <th>472</th>\n",
       "      <td>image_id_569_.jpg</td>\n",
       "      <td>2</td>\n",
       "    </tr>\n",
       "    <tr>\n",
       "      <th>154</th>\n",
       "      <td>image_id_186_.jpg</td>\n",
       "      <td>2</td>\n",
       "    </tr>\n",
       "    <tr>\n",
       "      <th>190</th>\n",
       "      <td>image_id_232_.jpg</td>\n",
       "      <td>1</td>\n",
       "    </tr>\n",
       "  </tbody>\n",
       "</table>\n",
       "<p>95 rows × 2 columns</p>\n",
       "</div>"
      ],
      "text/plain": [
       "              filename  class_id\n",
       "191  image_id_233_.jpg         2\n",
       "213  image_id_258_.jpg         1\n",
       "165  image_id_201_.jpg         2\n",
       "269  image_id_325_.jpg         2\n",
       "246  image_id_297_.jpg         2\n",
       "..                 ...       ...\n",
       "368  image_id_447_.jpg         1\n",
       "72   image_id_088_.jpg         2\n",
       "472  image_id_569_.jpg         2\n",
       "154  image_id_186_.jpg         2\n",
       "190  image_id_232_.jpg         1\n",
       "\n",
       "[95 rows x 2 columns]"
      ]
     },
     "execution_count": 8,
     "metadata": {},
     "output_type": "execute_result"
    }
   ],
   "source": [
    "test_data"
   ]
  },
  {
   "cell_type": "code",
   "execution_count": 4,
   "metadata": {},
   "outputs": [
    {
     "name": "stdout",
     "output_type": "stream",
     "text": [
      "image_id_233_.jpg 2\n",
      "AF_dataset/images/image_id_233_.jpg example/test/turtle\n",
      "==============================\n",
      "image_id_258_.jpg 1\n",
      "AF_dataset/images/image_id_258_.jpg example/test/pinguin\n",
      "==============================\n",
      "image_id_201_.jpg 2\n",
      "AF_dataset/images/image_id_201_.jpg example/test/turtle\n",
      "==============================\n",
      "image_id_325_.jpg 2\n",
      "AF_dataset/images/image_id_325_.jpg example/test/turtle\n",
      "==============================\n",
      "image_id_297_.jpg 2\n",
      "AF_dataset/images/image_id_297_.jpg example/test/turtle\n",
      "==============================\n",
      "image_id_523_.jpg 2\n",
      "AF_dataset/images/image_id_523_.jpg example/test/turtle\n",
      "==============================\n",
      "image_id_279_.jpg 2\n",
      "AF_dataset/images/image_id_279_.jpg example/test/turtle\n",
      "==============================\n",
      "image_id_271_.jpg 2\n",
      "AF_dataset/images/image_id_271_.jpg example/test/turtle\n",
      "==============================\n",
      "image_id_346_.jpg 2\n",
      "AF_dataset/images/image_id_346_.jpg example/test/turtle\n",
      "==============================\n",
      "image_id_128_.jpg 2\n",
      "AF_dataset/images/image_id_128_.jpg example/test/turtle\n",
      "==============================\n",
      "image_id_356_.jpg 2\n",
      "AF_dataset/images/image_id_356_.jpg example/test/turtle\n",
      "==============================\n",
      "image_id_536_.jpg 2\n",
      "AF_dataset/images/image_id_536_.jpg example/test/turtle\n",
      "==============================\n",
      "image_id_528_.jpg 2\n",
      "AF_dataset/images/image_id_528_.jpg example/test/turtle\n",
      "==============================\n",
      "image_id_431_.jpg 1\n",
      "AF_dataset/images/image_id_431_.jpg example/test/pinguin\n",
      "==============================\n",
      "image_id_027_.jpg 1\n",
      "AF_dataset/images/image_id_027_.jpg example/test/pinguin\n",
      "==============================\n",
      "image_id_374_.jpg 2\n",
      "AF_dataset/images/image_id_374_.jpg example/test/turtle\n",
      "==============================\n",
      "image_id_327_.jpg 1\n",
      "AF_dataset/images/image_id_327_.jpg example/test/pinguin\n",
      "==============================\n",
      "image_id_006_.jpg 1\n",
      "AF_dataset/images/image_id_006_.jpg example/test/pinguin\n",
      "==============================\n",
      "image_id_127_.jpg 1\n",
      "AF_dataset/images/image_id_127_.jpg example/test/pinguin\n",
      "==============================\n",
      "image_id_048_.jpg 1\n",
      "AF_dataset/images/image_id_048_.jpg example/test/pinguin\n",
      "==============================\n",
      "image_id_123_.jpg 2\n",
      "AF_dataset/images/image_id_123_.jpg example/test/turtle\n",
      "==============================\n",
      "image_id_166_.jpg 2\n",
      "AF_dataset/images/image_id_166_.jpg example/test/turtle\n",
      "==============================\n",
      "image_id_461_.jpg 1\n",
      "AF_dataset/images/image_id_461_.jpg example/test/pinguin\n",
      "==============================\n",
      "image_id_375_.jpg 1\n",
      "AF_dataset/images/image_id_375_.jpg example/test/pinguin\n",
      "==============================\n",
      "image_id_093_.jpg 1\n",
      "AF_dataset/images/image_id_093_.jpg example/test/pinguin\n",
      "==============================\n",
      "image_id_511_.jpg 1\n",
      "AF_dataset/images/image_id_511_.jpg example/test/pinguin\n",
      "==============================\n",
      "image_id_489_.jpg 2\n",
      "AF_dataset/images/image_id_489_.jpg example/test/turtle\n",
      "==============================\n",
      "image_id_049_.jpg 1\n",
      "AF_dataset/images/image_id_049_.jpg example/test/pinguin\n",
      "==============================\n",
      "image_id_138_.jpg 2\n",
      "AF_dataset/images/image_id_138_.jpg example/test/turtle\n",
      "==============================\n",
      "image_id_381_.jpg 1\n",
      "AF_dataset/images/image_id_381_.jpg example/test/pinguin\n",
      "==============================\n",
      "image_id_225_.jpg 1\n",
      "AF_dataset/images/image_id_225_.jpg example/test/pinguin\n",
      "==============================\n",
      "image_id_457_.jpg 1\n",
      "AF_dataset/images/image_id_457_.jpg example/test/pinguin\n",
      "==============================\n",
      "image_id_376_.jpg 2\n",
      "AF_dataset/images/image_id_376_.jpg example/test/turtle\n",
      "==============================\n",
      "image_id_253_.jpg 1\n",
      "AF_dataset/images/image_id_253_.jpg example/test/pinguin\n",
      "==============================\n",
      "image_id_002_.jpg 2\n",
      "AF_dataset/images/image_id_002_.jpg example/test/turtle\n",
      "==============================\n",
      "image_id_460_.jpg 1\n",
      "AF_dataset/images/image_id_460_.jpg example/test/pinguin\n",
      "==============================\n",
      "image_id_493_.jpg 2\n",
      "AF_dataset/images/image_id_493_.jpg example/test/turtle\n",
      "==============================\n",
      "image_id_481_.jpg 1\n",
      "AF_dataset/images/image_id_481_.jpg example/test/pinguin\n",
      "==============================\n",
      "image_id_195_.jpg 1\n",
      "AF_dataset/images/image_id_195_.jpg example/test/pinguin\n",
      "==============================\n",
      "image_id_408_.jpg 1\n",
      "AF_dataset/images/image_id_408_.jpg example/test/pinguin\n",
      "==============================\n",
      "image_id_306_.jpg 1\n",
      "AF_dataset/images/image_id_306_.jpg example/test/pinguin\n",
      "==============================\n",
      "image_id_242_.jpg 2\n",
      "AF_dataset/images/image_id_242_.jpg example/test/turtle\n",
      "==============================\n",
      "image_id_295_.jpg 1\n",
      "AF_dataset/images/image_id_295_.jpg example/test/pinguin\n",
      "==============================\n",
      "image_id_020_.jpg 2\n",
      "AF_dataset/images/image_id_020_.jpg example/test/turtle\n",
      "==============================\n",
      "image_id_094_.jpg 2\n",
      "AF_dataset/images/image_id_094_.jpg example/test/turtle\n",
      "==============================\n",
      "image_id_266_.jpg 2\n",
      "AF_dataset/images/image_id_266_.jpg example/test/turtle\n",
      "==============================\n",
      "image_id_270_.jpg 1\n",
      "AF_dataset/images/image_id_270_.jpg example/test/pinguin\n",
      "==============================\n",
      "image_id_257_.jpg 1\n",
      "AF_dataset/images/image_id_257_.jpg example/test/pinguin\n",
      "==============================\n",
      "image_id_262_.jpg 2\n",
      "AF_dataset/images/image_id_262_.jpg example/test/turtle\n",
      "==============================\n",
      "image_id_114_.jpg 2\n",
      "AF_dataset/images/image_id_114_.jpg example/test/turtle\n",
      "==============================\n",
      "image_id_272_.jpg 1\n",
      "AF_dataset/images/image_id_272_.jpg example/test/pinguin\n",
      "==============================\n",
      "image_id_341_.jpg 2\n",
      "AF_dataset/images/image_id_341_.jpg example/test/turtle\n",
      "==============================\n",
      "image_id_558_.jpg 1\n",
      "AF_dataset/images/image_id_558_.jpg example/test/pinguin\n",
      "==============================\n",
      "image_id_150_.jpg 1\n",
      "AF_dataset/images/image_id_150_.jpg example/test/pinguin\n",
      "==============================\n",
      "image_id_378_.jpg 2\n",
      "AF_dataset/images/image_id_378_.jpg example/test/turtle\n",
      "==============================\n",
      "image_id_399_.jpg 1\n",
      "AF_dataset/images/image_id_399_.jpg example/test/pinguin\n",
      "==============================\n",
      "image_id_179_.jpg 1\n",
      "AF_dataset/images/image_id_179_.jpg example/test/pinguin\n",
      "==============================\n",
      "image_id_101_.jpg 2\n",
      "AF_dataset/images/image_id_101_.jpg example/test/turtle\n",
      "==============================\n",
      "image_id_464_.jpg 1\n",
      "AF_dataset/images/image_id_464_.jpg example/test/pinguin\n",
      "==============================\n",
      "image_id_478_.jpg 2\n",
      "AF_dataset/images/image_id_478_.jpg example/test/turtle\n",
      "==============================\n",
      "image_id_142_.jpg 1\n",
      "AF_dataset/images/image_id_142_.jpg example/test/pinguin\n",
      "==============================\n",
      "image_id_301_.jpg 2\n",
      "AF_dataset/images/image_id_301_.jpg example/test/turtle\n",
      "==============================\n",
      "image_id_515_.jpg 1\n",
      "AF_dataset/images/image_id_515_.jpg example/test/pinguin\n",
      "==============================\n",
      "image_id_566_.jpg 1\n",
      "AF_dataset/images/image_id_566_.jpg example/test/pinguin\n",
      "==============================\n",
      "image_id_029_.jpg 2\n",
      "AF_dataset/images/image_id_029_.jpg example/test/turtle\n",
      "==============================\n",
      "image_id_473_.jpg 2\n",
      "AF_dataset/images/image_id_473_.jpg example/test/turtle\n",
      "==============================\n",
      "image_id_226_.jpg 1\n",
      "AF_dataset/images/image_id_226_.jpg example/test/pinguin\n",
      "==============================\n",
      "image_id_525_.jpg 1\n",
      "AF_dataset/images/image_id_525_.jpg example/test/pinguin\n",
      "==============================\n",
      "image_id_503_.jpg 1\n",
      "AF_dataset/images/image_id_503_.jpg example/test/pinguin\n",
      "==============================\n",
      "image_id_323_.jpg 1\n",
      "AF_dataset/images/image_id_323_.jpg example/test/pinguin\n",
      "==============================\n",
      "image_id_139_.jpg 1\n",
      "AF_dataset/images/image_id_139_.jpg example/test/pinguin\n",
      "==============================\n",
      "image_id_437_.jpg 1\n",
      "AF_dataset/images/image_id_437_.jpg example/test/pinguin\n",
      "==============================\n",
      "image_id_393_.jpg 2\n",
      "AF_dataset/images/image_id_393_.jpg example/test/turtle\n",
      "==============================\n",
      "image_id_570_.jpg 2\n",
      "AF_dataset/images/image_id_570_.jpg example/test/turtle\n",
      "==============================\n",
      "image_id_518_.jpg 2\n",
      "AF_dataset/images/image_id_518_.jpg example/test/turtle\n",
      "==============================\n",
      "image_id_294_.jpg 2\n",
      "AF_dataset/images/image_id_294_.jpg example/test/turtle\n",
      "==============================\n",
      "image_id_160_.jpg 1\n",
      "AF_dataset/images/image_id_160_.jpg example/test/pinguin\n",
      "==============================\n",
      "image_id_353_.jpg 2\n",
      "AF_dataset/images/image_id_353_.jpg example/test/turtle\n",
      "==============================\n",
      "image_id_131_.jpg 1\n",
      "AF_dataset/images/image_id_131_.jpg example/test/pinguin\n",
      "==============================\n",
      "image_id_121_.jpg 1\n",
      "AF_dataset/images/image_id_121_.jpg example/test/pinguin\n",
      "==============================\n",
      "image_id_217_.jpg 2\n",
      "AF_dataset/images/image_id_217_.jpg example/test/turtle\n",
      "==============================\n",
      "image_id_345_.jpg 2\n",
      "AF_dataset/images/image_id_345_.jpg example/test/turtle\n",
      "==============================\n",
      "image_id_412_.jpg 2\n",
      "AF_dataset/images/image_id_412_.jpg example/test/turtle\n",
      "==============================\n",
      "image_id_555_.jpg 2\n",
      "AF_dataset/images/image_id_555_.jpg example/test/turtle\n",
      "==============================\n",
      "image_id_482_.jpg 1\n",
      "AF_dataset/images/image_id_482_.jpg example/test/pinguin\n",
      "==============================\n",
      "image_id_535_.jpg 1\n",
      "AF_dataset/images/image_id_535_.jpg example/test/pinguin\n",
      "==============================\n",
      "image_id_502_.jpg 1\n",
      "AF_dataset/images/image_id_502_.jpg example/test/pinguin\n",
      "==============================\n",
      "image_id_542_.jpg 1\n",
      "AF_dataset/images/image_id_542_.jpg example/test/pinguin\n",
      "==============================\n",
      "image_id_428_.jpg 2\n",
      "AF_dataset/images/image_id_428_.jpg example/test/turtle\n",
      "==============================\n",
      "image_id_022_.jpg 2\n",
      "AF_dataset/images/image_id_022_.jpg example/test/turtle\n",
      "==============================\n",
      "image_id_447_.jpg 1\n",
      "AF_dataset/images/image_id_447_.jpg example/test/pinguin\n",
      "==============================\n",
      "image_id_088_.jpg 2\n",
      "AF_dataset/images/image_id_088_.jpg example/test/turtle\n",
      "==============================\n",
      "image_id_569_.jpg 2\n",
      "AF_dataset/images/image_id_569_.jpg example/test/turtle\n",
      "==============================\n",
      "image_id_186_.jpg 2\n",
      "AF_dataset/images/image_id_186_.jpg example/test/turtle\n",
      "==============================\n",
      "image_id_232_.jpg 1\n",
      "AF_dataset/images/image_id_232_.jpg example/test/pinguin\n",
      "==============================\n"
     ]
    }
   ],
   "source": [
    "# test\n",
    "path = 'AF_dataset'\n",
    "for i, row in test_data.iterrows():\n",
    "    print(row['filename'], row['class_id'])\n",
    "    source_file = f'{path}/images/{row[\"filename\"]}'\n",
    "    class_name = 'pinguin' if row['class_id'] == 1 else 'turtle'\n",
    "    destination_folder = f'example/test/{class_name}'\n",
    "    \n",
    "    os.makedirs(destination_folder, exist_ok=True)\n",
    "    # Define the destination file path\n",
    "    destination_file = os.path.join(destination_folder)\n",
    "    \n",
    "    # Copy the file to the destination folder\n",
    "    shutil.copy(source_file, destination_file)\n",
    "    print(source_file, destination_file)\n",
    "    print('='*30)\n",
    "    \n",
    "    # print(sample_image['filename'], sample_image['class_id'])# "
   ]
  },
  {
   "cell_type": "markdown",
   "metadata": {
    "id": "3DR-eO17geWu"
   },
   "source": [
    "# Convolutional Neural Network"
   ]
  },
  {
   "cell_type": "markdown",
   "metadata": {
    "id": "EMefrVPCg-60"
   },
   "source": [
    "### Importing the libraries"
   ]
  },
  {
   "cell_type": "code",
   "execution_count": 57,
   "metadata": {
    "id": "sCV30xyVhFbE"
   },
   "outputs": [],
   "source": [
    "import tensorflow as tf\n",
    "from tensorflow.keras.preprocessing.image import ImageDataGenerator"
   ]
  },
  {
   "cell_type": "code",
   "execution_count": 58,
   "metadata": {
    "colab": {
     "base_uri": "https://localhost:8080/",
     "height": 35
    },
    "id": "FIleuCAjoFD8",
    "outputId": "9c409700-4a44-4ac5-b45a-374e448511a6"
   },
   "outputs": [
    {
     "data": {
      "text/plain": [
       "'2.16.2'"
      ]
     },
     "execution_count": 58,
     "metadata": {},
     "output_type": "execute_result"
    }
   ],
   "source": [
    "tf.__version__"
   ]
  },
  {
   "cell_type": "markdown",
   "metadata": {
    "id": "oxQxCBWyoGPE"
   },
   "source": [
    "## Part 1 - Data Preprocessing"
   ]
  },
  {
   "cell_type": "markdown",
   "metadata": {
    "id": "MvE-heJNo3GG"
   },
   "source": [
    "### Preprocessing the Training set"
   ]
  },
  {
   "cell_type": "code",
   "execution_count": 59,
   "metadata": {},
   "outputs": [
    {
     "name": "stdout",
     "output_type": "stream",
     "text": [
      "Found 379 images belonging to 2 classes.\n"
     ]
    }
   ],
   "source": [
    "train_datagen = ImageDataGenerator(\n",
    "        rescale=1./255,\n",
    "        shear_range=0.2,\n",
    "        zoom_range=0.2,\n",
    "        horizontal_flip=True)\n",
    "\n",
    "training_set = train_datagen.flow_from_directory(\n",
    "        'AF_dataset/train',\n",
    "        target_size=(64, 64),\n",
    "        batch_size=32,\n",
    "        class_mode='binary')"
   ]
  },
  {
   "cell_type": "markdown",
   "metadata": {
    "id": "mrCMmGw9pHys"
   },
   "source": [
    "### Preprocessing the Test set"
   ]
  },
  {
   "cell_type": "markdown",
   "metadata": {},
   "source": []
  },
  {
   "cell_type": "code",
   "execution_count": 60,
   "metadata": {},
   "outputs": [
    {
     "name": "stdout",
     "output_type": "stream",
     "text": [
      "Found 95 images belonging to 2 classes.\n"
     ]
    }
   ],
   "source": [
    "# Do not apply data augmentation to the test set (only rescaling)\n",
    "test_datagen = ImageDataGenerator(rescale=1./255)\n",
    "test_set = test_datagen.flow_from_directory(\n",
    "        'AF_dataset/test',\n",
    "        target_size=(64, 64),\n",
    "        batch_size=32,\n",
    "        class_mode='binary')"
   ]
  },
  {
   "cell_type": "markdown",
   "metadata": {
    "id": "af8O4l90gk7B"
   },
   "source": [
    "## Part 2 - Building the CNN"
   ]
  },
  {
   "cell_type": "markdown",
   "metadata": {
    "id": "ces1gXY2lmoX"
   },
   "source": [
    "### Initialising the CNN"
   ]
  },
  {
   "cell_type": "code",
   "execution_count": 61,
   "metadata": {},
   "outputs": [],
   "source": [
    "cnn = tf.keras.models.Sequential()"
   ]
  },
  {
   "cell_type": "markdown",
   "metadata": {
    "id": "u5YJj_XMl5LF"
   },
   "source": [
    "### Step 1 - Convolution"
   ]
  },
  {
   "cell_type": "code",
   "execution_count": 62,
   "metadata": {},
   "outputs": [
    {
     "name": "stderr",
     "output_type": "stream",
     "text": [
      "/Users/danielmartinezvillegas/anaconda3/envs/tf-macos/lib/python3.9/site-packages/keras/src/layers/convolutional/base_conv.py:107: UserWarning: Do not pass an `input_shape`/`input_dim` argument to a layer. When using Sequential models, prefer using an `Input(shape)` object as the first layer in the model instead.\n",
      "  super().__init__(activity_regularizer=activity_regularizer, **kwargs)\n",
      "2024-10-22 09:53:21.325084: I metal_plugin/src/device/metal_device.cc:1154] Metal device set to: Apple M2 Pro\n",
      "2024-10-22 09:53:21.325134: I metal_plugin/src/device/metal_device.cc:296] systemMemory: 16.00 GB\n",
      "2024-10-22 09:53:21.325146: I metal_plugin/src/device/metal_device.cc:313] maxCacheSize: 5.33 GB\n",
      "2024-10-22 09:53:21.325385: I tensorflow/core/common_runtime/pluggable_device/pluggable_device_factory.cc:305] Could not identify NUMA node of platform GPU ID 0, defaulting to 0. Your kernel may not have been built with NUMA support.\n",
      "2024-10-22 09:53:21.325409: I tensorflow/core/common_runtime/pluggable_device/pluggable_device_factory.cc:271] Created TensorFlow device (/job:localhost/replica:0/task:0/device:GPU:0 with 0 MB memory) -> physical PluggableDevice (device: 0, name: METAL, pci bus id: <undefined>)\n"
     ]
    }
   ],
   "source": [
    "# Adding the convolutional layer\n",
    "# input_shape=[64, 64, 3] -> 64x64 pixels, 3 channels (RGB)\n",
    "cnn.add(tf.keras.layers.Conv2D(filters=32, kernel_size=3, activation='relu', input_shape=[64, 64, 3]))"
   ]
  },
  {
   "cell_type": "markdown",
   "metadata": {
    "id": "tf87FpvxmNOJ"
   },
   "source": [
    "### Step 2 - Pooling"
   ]
  },
  {
   "cell_type": "code",
   "execution_count": 63,
   "metadata": {},
   "outputs": [],
   "source": [
    "# Max pooling\n",
    "cnn.add(tf.keras.layers.MaxPool2D(pool_size=2, strides=2))"
   ]
  },
  {
   "cell_type": "markdown",
   "metadata": {
    "id": "xaTOgD8rm4mU"
   },
   "source": [
    "### Adding a second convolutional layer"
   ]
  },
  {
   "cell_type": "code",
   "execution_count": 64,
   "metadata": {},
   "outputs": [],
   "source": [
    "cnn.add(tf.keras.layers.Conv2D(filters=32, kernel_size=3, activation='relu'))\n",
    "cnn.add(tf.keras.layers.MaxPool2D(pool_size=2, strides=2))"
   ]
  },
  {
   "cell_type": "markdown",
   "metadata": {
    "id": "tmiEuvTunKfk"
   },
   "source": [
    "### Step 3 - Flattening"
   ]
  },
  {
   "cell_type": "code",
   "execution_count": 65,
   "metadata": {},
   "outputs": [],
   "source": [
    "# flattening\n",
    "cnn.add(tf.keras.layers.Flatten())"
   ]
  },
  {
   "cell_type": "markdown",
   "metadata": {
    "id": "dAoSECOm203v"
   },
   "source": [
    "### Step 4 - Full Connection"
   ]
  },
  {
   "cell_type": "code",
   "execution_count": 66,
   "metadata": {},
   "outputs": [],
   "source": [
    "# full connection\n",
    "cnn.add(tf.keras.layers.Dense(units=128, activation='relu'))"
   ]
  },
  {
   "cell_type": "markdown",
   "metadata": {
    "id": "yTldFvbX28Na"
   },
   "source": [
    "### Step 5 - Output Layer"
   ]
  },
  {
   "cell_type": "code",
   "execution_count": 67,
   "metadata": {},
   "outputs": [],
   "source": [
    "# output layer\n",
    "cnn.add(tf.keras.layers.Dense(units=1, activation='sigmoid'))"
   ]
  },
  {
   "cell_type": "markdown",
   "metadata": {
    "id": "D6XkI90snSDl"
   },
   "source": [
    "## Part 3 - Training the CNN"
   ]
  },
  {
   "cell_type": "markdown",
   "metadata": {
    "id": "vfrFQACEnc6i"
   },
   "source": [
    "### Compiling the CNN"
   ]
  },
  {
   "cell_type": "code",
   "execution_count": 68,
   "metadata": {},
   "outputs": [],
   "source": [
    "# compile the CNN\n",
    "cnn.compile(optimizer='adam', loss='binary_crossentropy', metrics=['accuracy'])"
   ]
  },
  {
   "cell_type": "markdown",
   "metadata": {
    "id": "ehS-v3MIpX2h"
   },
   "source": [
    "### Training the CNN on the Training set and evaluating it on the Test set"
   ]
  },
  {
   "cell_type": "code",
   "execution_count": 69,
   "metadata": {},
   "outputs": [
    {
     "name": "stdout",
     "output_type": "stream",
     "text": [
      "Epoch 1/25\n"
     ]
    },
    {
     "name": "stderr",
     "output_type": "stream",
     "text": [
      "2024-10-22 09:53:22.065325: I tensorflow/core/grappler/optimizers/custom_graph_optimizer_registry.cc:117] Plugin optimizer for device_type GPU is enabled.\n",
      "/Users/danielmartinezvillegas/anaconda3/envs/tf-macos/lib/python3.9/site-packages/keras/src/trainers/data_adapters/py_dataset_adapter.py:122: UserWarning: Your `PyDataset` class should call `super().__init__(**kwargs)` in its constructor. `**kwargs` can include `workers`, `use_multiprocessing`, `max_queue_size`. Do not pass these arguments to `fit()`, as they will be ignored.\n",
      "  self._warn_if_super_not_called()\n"
     ]
    },
    {
     "name": "stdout",
     "output_type": "stream",
     "text": [
      "\u001b[1m12/12\u001b[0m \u001b[32m━━━━━━━━━━━━━━━━━━━━\u001b[0m\u001b[37m\u001b[0m \u001b[1m3s\u001b[0m 137ms/step - accuracy: 0.5216 - loss: 0.7632 - val_accuracy: 0.5474 - val_loss: 0.6416\n",
      "Epoch 2/25\n",
      "\u001b[1m12/12\u001b[0m \u001b[32m━━━━━━━━━━━━━━━━━━━━\u001b[0m\u001b[37m\u001b[0m \u001b[1m1s\u001b[0m 36ms/step - accuracy: 0.6795 - loss: 0.6307 - val_accuracy: 0.7053 - val_loss: 0.5495\n",
      "Epoch 3/25\n",
      "\u001b[1m12/12\u001b[0m \u001b[32m━━━━━━━━━━━━━━━━━━━━\u001b[0m\u001b[37m\u001b[0m \u001b[1m1s\u001b[0m 36ms/step - accuracy: 0.7255 - loss: 0.5547 - val_accuracy: 0.7474 - val_loss: 0.5151\n",
      "Epoch 4/25\n",
      "\u001b[1m12/12\u001b[0m \u001b[32m━━━━━━━━━━━━━━━━━━━━\u001b[0m\u001b[37m\u001b[0m \u001b[1m1s\u001b[0m 39ms/step - accuracy: 0.7906 - loss: 0.4847 - val_accuracy: 0.7263 - val_loss: 0.5218\n",
      "Epoch 5/25\n",
      "\u001b[1m12/12\u001b[0m \u001b[32m━━━━━━━━━━━━━━━━━━━━\u001b[0m\u001b[37m\u001b[0m \u001b[1m1s\u001b[0m 34ms/step - accuracy: 0.8222 - loss: 0.4381 - val_accuracy: 0.6947 - val_loss: 0.6121\n",
      "Epoch 6/25\n",
      "\u001b[1m12/12\u001b[0m \u001b[32m━━━━━━━━━━━━━━━━━━━━\u001b[0m\u001b[37m\u001b[0m \u001b[1m1s\u001b[0m 36ms/step - accuracy: 0.8311 - loss: 0.4155 - val_accuracy: 0.7474 - val_loss: 0.5309\n",
      "Epoch 7/25\n",
      "\u001b[1m12/12\u001b[0m \u001b[32m━━━━━━━━━━━━━━━━━━━━\u001b[0m\u001b[37m\u001b[0m \u001b[1m1s\u001b[0m 40ms/step - accuracy: 0.7716 - loss: 0.4825 - val_accuracy: 0.7789 - val_loss: 0.4852\n",
      "Epoch 8/25\n",
      "\u001b[1m12/12\u001b[0m \u001b[32m━━━━━━━━━━━━━━━━━━━━\u001b[0m\u001b[37m\u001b[0m \u001b[1m1s\u001b[0m 34ms/step - accuracy: 0.8160 - loss: 0.4189 - val_accuracy: 0.7474 - val_loss: 0.5210\n",
      "Epoch 9/25\n",
      "\u001b[1m12/12\u001b[0m \u001b[32m━━━━━━━━━━━━━━━━━━━━\u001b[0m\u001b[37m\u001b[0m \u001b[1m1s\u001b[0m 34ms/step - accuracy: 0.8299 - loss: 0.3789 - val_accuracy: 0.7684 - val_loss: 0.4951\n",
      "Epoch 10/25\n",
      "\u001b[1m12/12\u001b[0m \u001b[32m━━━━━━━━━━━━━━━━━━━━\u001b[0m\u001b[37m\u001b[0m \u001b[1m1s\u001b[0m 35ms/step - accuracy: 0.8233 - loss: 0.4137 - val_accuracy: 0.7684 - val_loss: 0.4799\n",
      "Epoch 11/25\n",
      "\u001b[1m12/12\u001b[0m \u001b[32m━━━━━━━━━━━━━━━━━━━━\u001b[0m\u001b[37m\u001b[0m \u001b[1m1s\u001b[0m 34ms/step - accuracy: 0.8494 - loss: 0.3725 - val_accuracy: 0.7895 - val_loss: 0.4479\n",
      "Epoch 12/25\n",
      "\u001b[1m12/12\u001b[0m \u001b[32m━━━━━━━━━━━━━━━━━━━━\u001b[0m\u001b[37m\u001b[0m \u001b[1m1s\u001b[0m 36ms/step - accuracy: 0.8457 - loss: 0.3438 - val_accuracy: 0.7474 - val_loss: 0.6156\n",
      "Epoch 13/25\n",
      "\u001b[1m12/12\u001b[0m \u001b[32m━━━━━━━━━━━━━━━━━━━━\u001b[0m\u001b[37m\u001b[0m \u001b[1m1s\u001b[0m 40ms/step - accuracy: 0.8858 - loss: 0.3271 - val_accuracy: 0.7789 - val_loss: 0.4372\n",
      "Epoch 14/25\n",
      "\u001b[1m12/12\u001b[0m \u001b[32m━━━━━━━━━━━━━━━━━━━━\u001b[0m\u001b[37m\u001b[0m \u001b[1m1s\u001b[0m 34ms/step - accuracy: 0.8737 - loss: 0.3154 - val_accuracy: 0.7789 - val_loss: 0.4449\n",
      "Epoch 15/25\n",
      "\u001b[1m12/12\u001b[0m \u001b[32m━━━━━━━━━━━━━━━━━━━━\u001b[0m\u001b[37m\u001b[0m \u001b[1m1s\u001b[0m 34ms/step - accuracy: 0.8673 - loss: 0.3341 - val_accuracy: 0.8526 - val_loss: 0.4072\n",
      "Epoch 16/25\n",
      "\u001b[1m12/12\u001b[0m \u001b[32m━━━━━━━━━━━━━━━━━━━━\u001b[0m\u001b[37m\u001b[0m \u001b[1m1s\u001b[0m 36ms/step - accuracy: 0.8300 - loss: 0.3471 - val_accuracy: 0.7368 - val_loss: 0.6383\n",
      "Epoch 17/25\n",
      "\u001b[1m12/12\u001b[0m \u001b[32m━━━━━━━━━━━━━━━━━━━━\u001b[0m\u001b[37m\u001b[0m \u001b[1m1s\u001b[0m 37ms/step - accuracy: 0.8167 - loss: 0.4121 - val_accuracy: 0.8105 - val_loss: 0.4689\n",
      "Epoch 18/25\n",
      "\u001b[1m12/12\u001b[0m \u001b[32m━━━━━━━━━━━━━━━━━━━━\u001b[0m\u001b[37m\u001b[0m \u001b[1m1s\u001b[0m 36ms/step - accuracy: 0.8731 - loss: 0.3288 - val_accuracy: 0.8421 - val_loss: 0.4307\n",
      "Epoch 19/25\n",
      "\u001b[1m12/12\u001b[0m \u001b[32m━━━━━━━━━━━━━━━━━━━━\u001b[0m\u001b[37m\u001b[0m \u001b[1m1s\u001b[0m 34ms/step - accuracy: 0.8740 - loss: 0.2966 - val_accuracy: 0.7474 - val_loss: 0.5758\n",
      "Epoch 20/25\n",
      "\u001b[1m12/12\u001b[0m \u001b[32m━━━━━━━━━━━━━━━━━━━━\u001b[0m\u001b[37m\u001b[0m \u001b[1m1s\u001b[0m 34ms/step - accuracy: 0.8800 - loss: 0.2937 - val_accuracy: 0.8211 - val_loss: 0.4192\n",
      "Epoch 21/25\n",
      "\u001b[1m12/12\u001b[0m \u001b[32m━━━━━━━━━━━━━━━━━━━━\u001b[0m\u001b[37m\u001b[0m \u001b[1m1s\u001b[0m 39ms/step - accuracy: 0.8897 - loss: 0.2647 - val_accuracy: 0.8421 - val_loss: 0.4059\n",
      "Epoch 22/25\n",
      "\u001b[1m12/12\u001b[0m \u001b[32m━━━━━━━━━━━━━━━━━━━━\u001b[0m\u001b[37m\u001b[0m \u001b[1m1s\u001b[0m 35ms/step - accuracy: 0.9262 - loss: 0.2221 - val_accuracy: 0.8316 - val_loss: 0.4216\n",
      "Epoch 23/25\n",
      "\u001b[1m12/12\u001b[0m \u001b[32m━━━━━━━━━━━━━━━━━━━━\u001b[0m\u001b[37m\u001b[0m \u001b[1m1s\u001b[0m 36ms/step - accuracy: 0.9214 - loss: 0.2377 - val_accuracy: 0.8211 - val_loss: 0.4276\n",
      "Epoch 24/25\n",
      "\u001b[1m12/12\u001b[0m \u001b[32m━━━━━━━━━━━━━━━━━━━━\u001b[0m\u001b[37m\u001b[0m \u001b[1m1s\u001b[0m 35ms/step - accuracy: 0.9370 - loss: 0.1698 - val_accuracy: 0.8211 - val_loss: 0.4268\n",
      "Epoch 25/25\n",
      "\u001b[1m12/12\u001b[0m \u001b[32m━━━━━━━━━━━━━━━━━━━━\u001b[0m\u001b[37m\u001b[0m \u001b[1m1s\u001b[0m 35ms/step - accuracy: 0.8922 - loss: 0.2675 - val_accuracy: 0.8632 - val_loss: 0.4074\n"
     ]
    },
    {
     "data": {
      "text/plain": [
       "<keras.src.callbacks.history.History at 0x349d4bbe0>"
      ]
     },
     "execution_count": 69,
     "metadata": {},
     "output_type": "execute_result"
    }
   ],
   "source": [
    "# train the CNN\n",
    "cnn.fit(x=training_set, validation_data=test_set, epochs=25)"
   ]
  },
  {
   "cell_type": "markdown",
   "metadata": {
    "id": "U3PZasO0006Z"
   },
   "source": [
    "## Part 4 - Making a single prediction"
   ]
  },
  {
   "cell_type": "code",
   "execution_count": 90,
   "metadata": {},
   "outputs": [
    {
     "name": "stdout",
     "output_type": "stream",
     "text": [
      "\u001b[1m1/1\u001b[0m \u001b[32m━━━━━━━━━━━━━━━━━━━━\u001b[0m\u001b[37m\u001b[0m \u001b[1m0s\u001b[0m 9ms/step\n",
      "0.0\n"
     ]
    }
   ],
   "source": [
    "# import numpy as np\n",
    "# from keras.preprocessing import image\n",
    "\n",
    "# test_image = image.load_img('AF_dataset/single_prediction/prediction_01.png', target_size=(64, 64))\n",
    "# # convert into a array\n",
    "# test_image = image.img_to_array(test_image)\n",
    "# # add batch dimension\n",
    "# test_image = np.expand_dims(test_image, axis=0)\n",
    "# # result\n",
    "# result = cnn.predict(test_image)\n",
    "# # encode the result\n",
    "# training_set.class_indices\n",
    "# print(result[0][0])\n",
    "# if result[0][0] == 0:\n",
    "# \tprediction = 'pinguin'\n",
    "# else:\n",
    "# \tprediction = 'turtle'\n"
   ]
  },
  {
   "cell_type": "code",
   "execution_count": 97,
   "metadata": {},
   "outputs": [
    {
     "name": "stdout",
     "output_type": "stream",
     "text": [
      "\u001b[1m1/1\u001b[0m \u001b[32m━━━━━━━━━━━━━━━━━━━━\u001b[0m\u001b[37m\u001b[0m \u001b[1m0s\u001b[0m 16ms/step\n",
      "\u001b[1m1/1\u001b[0m \u001b[32m━━━━━━━━━━━━━━━━━━━━\u001b[0m\u001b[37m\u001b[0m \u001b[1m0s\u001b[0m 10ms/step\n",
      "\u001b[1m1/1\u001b[0m \u001b[32m━━━━━━━━━━━━━━━━━━━━\u001b[0m\u001b[37m\u001b[0m \u001b[1m0s\u001b[0m 9ms/step\n",
      "\u001b[1m1/1\u001b[0m \u001b[32m━━━━━━━━━━━━━━━━━━━━\u001b[0m\u001b[37m\u001b[0m \u001b[1m0s\u001b[0m 9ms/step\n",
      "\u001b[1m1/1\u001b[0m \u001b[32m━━━━━━━━━━━━━━━━━━━━\u001b[0m\u001b[37m\u001b[0m \u001b[1m0s\u001b[0m 9ms/step\n",
      "\u001b[1m1/1\u001b[0m \u001b[32m━━━━━━━━━━━━━━━━━━━━\u001b[0m\u001b[37m\u001b[0m \u001b[1m0s\u001b[0m 9ms/step\n",
      "\u001b[1m1/1\u001b[0m \u001b[32m━━━━━━━━━━━━━━━━━━━━\u001b[0m\u001b[37m\u001b[0m \u001b[1m0s\u001b[0m 9ms/step\n",
      "\u001b[1m1/1\u001b[0m \u001b[32m━━━━━━━━━━━━━━━━━━━━\u001b[0m\u001b[37m\u001b[0m \u001b[1m0s\u001b[0m 9ms/step\n",
      "\u001b[1m1/1\u001b[0m \u001b[32m━━━━━━━━━━━━━━━━━━━━\u001b[0m\u001b[37m\u001b[0m \u001b[1m0s\u001b[0m 9ms/step\n",
      "\u001b[1m1/1\u001b[0m \u001b[32m━━━━━━━━━━━━━━━━━━━━\u001b[0m\u001b[37m\u001b[0m \u001b[1m0s\u001b[0m 9ms/step\n",
      "\u001b[1m1/1\u001b[0m \u001b[32m━━━━━━━━━━━━━━━━━━━━\u001b[0m\u001b[37m\u001b[0m \u001b[1m0s\u001b[0m 9ms/step\n",
      "\u001b[1m1/1\u001b[0m \u001b[32m━━━━━━━━━━━━━━━━━━━━\u001b[0m\u001b[37m\u001b[0m \u001b[1m0s\u001b[0m 8ms/step\n",
      "\u001b[1m1/1\u001b[0m \u001b[32m━━━━━━━━━━━━━━━━━━━━\u001b[0m\u001b[37m\u001b[0m \u001b[1m0s\u001b[0m 10ms/step\n",
      "\u001b[1m1/1\u001b[0m \u001b[32m━━━━━━━━━━━━━━━━━━━━\u001b[0m\u001b[37m\u001b[0m \u001b[1m0s\u001b[0m 9ms/step\n",
      "\u001b[1m1/1\u001b[0m \u001b[32m━━━━━━━━━━━━━━━━━━━━\u001b[0m\u001b[37m\u001b[0m \u001b[1m0s\u001b[0m 9ms/step\n",
      "\u001b[1m1/1\u001b[0m \u001b[32m━━━━━━━━━━━━━━━━━━━━\u001b[0m\u001b[37m\u001b[0m \u001b[1m0s\u001b[0m 9ms/step\n",
      "\u001b[1m1/1\u001b[0m \u001b[32m━━━━━━━━━━━━━━━━━━━━\u001b[0m\u001b[37m\u001b[0m \u001b[1m0s\u001b[0m 9ms/step\n",
      "\u001b[1m1/1\u001b[0m \u001b[32m━━━━━━━━━━━━━━━━━━━━\u001b[0m\u001b[37m\u001b[0m \u001b[1m0s\u001b[0m 8ms/step\n",
      "\u001b[1m1/1\u001b[0m \u001b[32m━━━━━━━━━━━━━━━━━━━━\u001b[0m\u001b[37m\u001b[0m \u001b[1m0s\u001b[0m 9ms/step\n",
      "\u001b[1m1/1\u001b[0m \u001b[32m━━━━━━━━━━━━━━━━━━━━\u001b[0m\u001b[37m\u001b[0m \u001b[1m0s\u001b[0m 9ms/step\n",
      "\u001b[1m1/1\u001b[0m \u001b[32m━━━━━━━━━━━━━━━━━━━━\u001b[0m\u001b[37m\u001b[0m \u001b[1m0s\u001b[0m 9ms/step\n",
      "\u001b[1m1/1\u001b[0m \u001b[32m━━━━━━━━━━━━━━━━━━━━\u001b[0m\u001b[37m\u001b[0m \u001b[1m0s\u001b[0m 9ms/step\n",
      "\u001b[1m1/1\u001b[0m \u001b[32m━━━━━━━━━━━━━━━━━━━━\u001b[0m\u001b[37m\u001b[0m \u001b[1m0s\u001b[0m 9ms/step\n",
      "\u001b[1m1/1\u001b[0m \u001b[32m━━━━━━━━━━━━━━━━━━━━\u001b[0m\u001b[37m\u001b[0m \u001b[1m0s\u001b[0m 8ms/step\n",
      "\u001b[1m1/1\u001b[0m \u001b[32m━━━━━━━━━━━━━━━━━━━━\u001b[0m\u001b[37m\u001b[0m \u001b[1m0s\u001b[0m 10ms/step\n",
      "\u001b[1m1/1\u001b[0m \u001b[32m━━━━━━━━━━━━━━━━━━━━\u001b[0m\u001b[37m\u001b[0m \u001b[1m0s\u001b[0m 9ms/step\n",
      "\u001b[1m1/1\u001b[0m \u001b[32m━━━━━━━━━━━━━━━━━━━━\u001b[0m\u001b[37m\u001b[0m \u001b[1m0s\u001b[0m 9ms/step\n",
      "\u001b[1m1/1\u001b[0m \u001b[32m━━━━━━━━━━━━━━━━━━━━\u001b[0m\u001b[37m\u001b[0m \u001b[1m0s\u001b[0m 9ms/step\n",
      "\u001b[1m1/1\u001b[0m \u001b[32m━━━━━━━━━━━━━━━━━━━━\u001b[0m\u001b[37m\u001b[0m \u001b[1m0s\u001b[0m 9ms/step\n",
      "\u001b[1m1/1\u001b[0m \u001b[32m━━━━━━━━━━━━━━━━━━━━\u001b[0m\u001b[37m\u001b[0m \u001b[1m0s\u001b[0m 9ms/step\n",
      "\u001b[1m1/1\u001b[0m \u001b[32m━━━━━━━━━━━━━━━━━━━━\u001b[0m\u001b[37m\u001b[0m \u001b[1m0s\u001b[0m 10ms/step\n",
      "\u001b[1m1/1\u001b[0m \u001b[32m━━━━━━━━━━━━━━━━━━━━\u001b[0m\u001b[37m\u001b[0m \u001b[1m0s\u001b[0m 10ms/step\n",
      "\u001b[1m1/1\u001b[0m \u001b[32m━━━━━━━━━━━━━━━━━━━━\u001b[0m\u001b[37m\u001b[0m \u001b[1m0s\u001b[0m 10ms/step\n",
      "\u001b[1m1/1\u001b[0m \u001b[32m━━━━━━━━━━━━━━━━━━━━\u001b[0m\u001b[37m\u001b[0m \u001b[1m0s\u001b[0m 9ms/step\n",
      "\u001b[1m1/1\u001b[0m \u001b[32m━━━━━━━━━━━━━━━━━━━━\u001b[0m\u001b[37m\u001b[0m \u001b[1m0s\u001b[0m 10ms/step\n",
      "\u001b[1m1/1\u001b[0m \u001b[32m━━━━━━━━━━━━━━━━━━━━\u001b[0m\u001b[37m\u001b[0m \u001b[1m0s\u001b[0m 9ms/step\n",
      "\u001b[1m1/1\u001b[0m \u001b[32m━━━━━━━━━━━━━━━━━━━━\u001b[0m\u001b[37m\u001b[0m \u001b[1m0s\u001b[0m 9ms/step\n",
      "\u001b[1m1/1\u001b[0m \u001b[32m━━━━━━━━━━━━━━━━━━━━\u001b[0m\u001b[37m\u001b[0m \u001b[1m0s\u001b[0m 9ms/step\n",
      "\u001b[1m1/1\u001b[0m \u001b[32m━━━━━━━━━━━━━━━━━━━━\u001b[0m\u001b[37m\u001b[0m \u001b[1m0s\u001b[0m 9ms/step\n",
      "\u001b[1m1/1\u001b[0m \u001b[32m━━━━━━━━━━━━━━━━━━━━\u001b[0m\u001b[37m\u001b[0m \u001b[1m0s\u001b[0m 9ms/step\n",
      "\u001b[1m1/1\u001b[0m \u001b[32m━━━━━━━━━━━━━━━━━━━━\u001b[0m\u001b[37m\u001b[0m \u001b[1m0s\u001b[0m 10ms/step\n",
      "\u001b[1m1/1\u001b[0m \u001b[32m━━━━━━━━━━━━━━━━━━━━\u001b[0m\u001b[37m\u001b[0m \u001b[1m0s\u001b[0m 10ms/step\n",
      "\u001b[1m1/1\u001b[0m \u001b[32m━━━━━━━━━━━━━━━━━━━━\u001b[0m\u001b[37m\u001b[0m \u001b[1m0s\u001b[0m 9ms/step\n",
      "\u001b[1m1/1\u001b[0m \u001b[32m━━━━━━━━━━━━━━━━━━━━\u001b[0m\u001b[37m\u001b[0m \u001b[1m0s\u001b[0m 9ms/step\n",
      "\u001b[1m1/1\u001b[0m \u001b[32m━━━━━━━━━━━━━━━━━━━━\u001b[0m\u001b[37m\u001b[0m \u001b[1m0s\u001b[0m 8ms/step\n",
      "\u001b[1m1/1\u001b[0m \u001b[32m━━━━━━━━━━━━━━━━━━━━\u001b[0m\u001b[37m\u001b[0m \u001b[1m0s\u001b[0m 38ms/step\n",
      "\u001b[1m1/1\u001b[0m \u001b[32m━━━━━━━━━━━━━━━━━━━━\u001b[0m\u001b[37m\u001b[0m \u001b[1m0s\u001b[0m 9ms/step\n",
      "\u001b[1m1/1\u001b[0m \u001b[32m━━━━━━━━━━━━━━━━━━━━\u001b[0m\u001b[37m\u001b[0m \u001b[1m0s\u001b[0m 9ms/step\n",
      "\u001b[1m1/1\u001b[0m \u001b[32m━━━━━━━━━━━━━━━━━━━━\u001b[0m\u001b[37m\u001b[0m \u001b[1m0s\u001b[0m 10ms/step\n",
      "\u001b[1m1/1\u001b[0m \u001b[32m━━━━━━━━━━━━━━━━━━━━\u001b[0m\u001b[37m\u001b[0m \u001b[1m0s\u001b[0m 14ms/step\n",
      "\u001b[1m1/1\u001b[0m \u001b[32m━━━━━━━━━━━━━━━━━━━━\u001b[0m\u001b[37m\u001b[0m \u001b[1m0s\u001b[0m 9ms/step\n",
      "\u001b[1m1/1\u001b[0m \u001b[32m━━━━━━━━━━━━━━━━━━━━\u001b[0m\u001b[37m\u001b[0m \u001b[1m0s\u001b[0m 9ms/step\n",
      "\u001b[1m1/1\u001b[0m \u001b[32m━━━━━━━━━━━━━━━━━━━━\u001b[0m\u001b[37m\u001b[0m \u001b[1m0s\u001b[0m 9ms/step\n",
      "\u001b[1m1/1\u001b[0m \u001b[32m━━━━━━━━━━━━━━━━━━━━\u001b[0m\u001b[37m\u001b[0m \u001b[1m0s\u001b[0m 10ms/step\n",
      "\u001b[1m1/1\u001b[0m \u001b[32m━━━━━━━━━━━━━━━━━━━━\u001b[0m\u001b[37m\u001b[0m \u001b[1m0s\u001b[0m 10ms/step\n",
      "\u001b[1m1/1\u001b[0m \u001b[32m━━━━━━━━━━━━━━━━━━━━\u001b[0m\u001b[37m\u001b[0m \u001b[1m0s\u001b[0m 9ms/step\n",
      "\u001b[1m1/1\u001b[0m \u001b[32m━━━━━━━━━━━━━━━━━━━━\u001b[0m\u001b[37m\u001b[0m \u001b[1m0s\u001b[0m 9ms/step\n",
      "\u001b[1m1/1\u001b[0m \u001b[32m━━━━━━━━━━━━━━━━━━━━\u001b[0m\u001b[37m\u001b[0m \u001b[1m0s\u001b[0m 9ms/step\n",
      "\u001b[1m1/1\u001b[0m \u001b[32m━━━━━━━━━━━━━━━━━━━━\u001b[0m\u001b[37m\u001b[0m \u001b[1m0s\u001b[0m 9ms/step\n",
      "\u001b[1m1/1\u001b[0m \u001b[32m━━━━━━━━━━━━━━━━━━━━\u001b[0m\u001b[37m\u001b[0m \u001b[1m0s\u001b[0m 9ms/step\n",
      "\u001b[1m1/1\u001b[0m \u001b[32m━━━━━━━━━━━━━━━━━━━━\u001b[0m\u001b[37m\u001b[0m \u001b[1m0s\u001b[0m 9ms/step\n",
      "\u001b[1m1/1\u001b[0m \u001b[32m━━━━━━━━━━━━━━━━━━━━\u001b[0m\u001b[37m\u001b[0m \u001b[1m0s\u001b[0m 9ms/step\n",
      "\u001b[1m1/1\u001b[0m \u001b[32m━━━━━━━━━━━━━━━━━━━━\u001b[0m\u001b[37m\u001b[0m \u001b[1m0s\u001b[0m 9ms/step\n",
      "\u001b[1m1/1\u001b[0m \u001b[32m━━━━━━━━━━━━━━━━━━━━\u001b[0m\u001b[37m\u001b[0m \u001b[1m0s\u001b[0m 8ms/step\n",
      "\u001b[1m1/1\u001b[0m \u001b[32m━━━━━━━━━━━━━━━━━━━━\u001b[0m\u001b[37m\u001b[0m \u001b[1m0s\u001b[0m 9ms/step\n",
      "\u001b[1m1/1\u001b[0m \u001b[32m━━━━━━━━━━━━━━━━━━━━\u001b[0m\u001b[37m\u001b[0m \u001b[1m0s\u001b[0m 9ms/step\n",
      "\u001b[1m1/1\u001b[0m \u001b[32m━━━━━━━━━━━━━━━━━━━━\u001b[0m\u001b[37m\u001b[0m \u001b[1m0s\u001b[0m 9ms/step\n",
      "\u001b[1m1/1\u001b[0m \u001b[32m━━━━━━━━━━━━━━━━━━━━\u001b[0m\u001b[37m\u001b[0m \u001b[1m0s\u001b[0m 9ms/step\n",
      "\u001b[1m1/1\u001b[0m \u001b[32m━━━━━━━━━━━━━━━━━━━━\u001b[0m\u001b[37m\u001b[0m \u001b[1m0s\u001b[0m 9ms/step\n",
      "\u001b[1m1/1\u001b[0m \u001b[32m━━━━━━━━━━━━━━━━━━━━\u001b[0m\u001b[37m\u001b[0m \u001b[1m0s\u001b[0m 9ms/step\n",
      "\u001b[1m1/1\u001b[0m \u001b[32m━━━━━━━━━━━━━━━━━━━━\u001b[0m\u001b[37m\u001b[0m \u001b[1m0s\u001b[0m 9ms/step\n",
      "\u001b[1m1/1\u001b[0m \u001b[32m━━━━━━━━━━━━━━━━━━━━\u001b[0m\u001b[37m\u001b[0m \u001b[1m0s\u001b[0m 10ms/step\n",
      "\u001b[1m1/1\u001b[0m \u001b[32m━━━━━━━━━━━━━━━━━━━━\u001b[0m\u001b[37m\u001b[0m \u001b[1m0s\u001b[0m 9ms/step\n",
      "\u001b[1m1/1\u001b[0m \u001b[32m━━━━━━━━━━━━━━━━━━━━\u001b[0m\u001b[37m\u001b[0m \u001b[1m0s\u001b[0m 9ms/step\n",
      "\u001b[1m1/1\u001b[0m \u001b[32m━━━━━━━━━━━━━━━━━━━━\u001b[0m\u001b[37m\u001b[0m \u001b[1m0s\u001b[0m 9ms/step\n",
      "\u001b[1m1/1\u001b[0m \u001b[32m━━━━━━━━━━━━━━━━━━━━\u001b[0m\u001b[37m\u001b[0m \u001b[1m0s\u001b[0m 9ms/step\n",
      "\u001b[1m1/1\u001b[0m \u001b[32m━━━━━━━━━━━━━━━━━━━━\u001b[0m\u001b[37m\u001b[0m \u001b[1m0s\u001b[0m 9ms/step\n",
      "\u001b[1m1/1\u001b[0m \u001b[32m━━━━━━━━━━━━━━━━━━━━\u001b[0m\u001b[37m\u001b[0m \u001b[1m0s\u001b[0m 9ms/step\n",
      "\u001b[1m1/1\u001b[0m \u001b[32m━━━━━━━━━━━━━━━━━━━━\u001b[0m\u001b[37m\u001b[0m \u001b[1m0s\u001b[0m 9ms/step\n",
      "\u001b[1m1/1\u001b[0m \u001b[32m━━━━━━━━━━━━━━━━━━━━\u001b[0m\u001b[37m\u001b[0m \u001b[1m0s\u001b[0m 9ms/step\n",
      "\u001b[1m1/1\u001b[0m \u001b[32m━━━━━━━━━━━━━━━━━━━━\u001b[0m\u001b[37m\u001b[0m \u001b[1m0s\u001b[0m 9ms/step\n",
      "\u001b[1m1/1\u001b[0m \u001b[32m━━━━━━━━━━━━━━━━━━━━\u001b[0m\u001b[37m\u001b[0m \u001b[1m0s\u001b[0m 9ms/step\n",
      "\u001b[1m1/1\u001b[0m \u001b[32m━━━━━━━━━━━━━━━━━━━━\u001b[0m\u001b[37m\u001b[0m \u001b[1m0s\u001b[0m 9ms/step\n",
      "\u001b[1m1/1\u001b[0m \u001b[32m━━━━━━━━━━━━━━━━━━━━\u001b[0m\u001b[37m\u001b[0m \u001b[1m0s\u001b[0m 9ms/step\n",
      "\u001b[1m1/1\u001b[0m \u001b[32m━━━━━━━━━━━━━━━━━━━━\u001b[0m\u001b[37m\u001b[0m \u001b[1m0s\u001b[0m 10ms/step\n",
      "\u001b[1m1/1\u001b[0m \u001b[32m━━━━━━━━━━━━━━━━━━━━\u001b[0m\u001b[37m\u001b[0m \u001b[1m0s\u001b[0m 9ms/step\n",
      "\u001b[1m1/1\u001b[0m \u001b[32m━━━━━━━━━━━━━━━━━━━━\u001b[0m\u001b[37m\u001b[0m \u001b[1m0s\u001b[0m 9ms/step\n",
      "\u001b[1m1/1\u001b[0m \u001b[32m━━━━━━━━━━━━━━━━━━━━\u001b[0m\u001b[37m\u001b[0m \u001b[1m0s\u001b[0m 9ms/step\n",
      "\u001b[1m1/1\u001b[0m \u001b[32m━━━━━━━━━━━━━━━━━━━━\u001b[0m\u001b[37m\u001b[0m \u001b[1m0s\u001b[0m 9ms/step\n",
      "\u001b[1m1/1\u001b[0m \u001b[32m━━━━━━━━━━━━━━━━━━━━\u001b[0m\u001b[37m\u001b[0m \u001b[1m0s\u001b[0m 9ms/step\n",
      "\u001b[1m1/1\u001b[0m \u001b[32m━━━━━━━━━━━━━━━━━━━━\u001b[0m\u001b[37m\u001b[0m \u001b[1m0s\u001b[0m 9ms/step\n",
      "\u001b[1m1/1\u001b[0m \u001b[32m━━━━━━━━━━━━━━━━━━━━\u001b[0m\u001b[37m\u001b[0m \u001b[1m0s\u001b[0m 9ms/step\n",
      "\u001b[1m1/1\u001b[0m \u001b[32m━━━━━━━━━━━━━━━━━━━━\u001b[0m\u001b[37m\u001b[0m \u001b[1m0s\u001b[0m 9ms/step\n",
      "\u001b[1m1/1\u001b[0m \u001b[32m━━━━━━━━━━━━━━━━━━━━\u001b[0m\u001b[37m\u001b[0m \u001b[1m0s\u001b[0m 9ms/step\n",
      "\u001b[1m1/1\u001b[0m \u001b[32m━━━━━━━━━━━━━━━━━━━━\u001b[0m\u001b[37m\u001b[0m \u001b[1m0s\u001b[0m 9ms/step\n",
      "\u001b[1m1/1\u001b[0m \u001b[32m━━━━━━━━━━━━━━━━━━━━\u001b[0m\u001b[37m\u001b[0m \u001b[1m0s\u001b[0m 9ms/step\n",
      "\u001b[1m1/1\u001b[0m \u001b[32m━━━━━━━━━━━━━━━━━━━━\u001b[0m\u001b[37m\u001b[0m \u001b[1m0s\u001b[0m 9ms/step\n",
      "\u001b[1m1/1\u001b[0m \u001b[32m━━━━━━━━━━━━━━━━━━━━\u001b[0m\u001b[37m\u001b[0m \u001b[1m0s\u001b[0m 9ms/step\n",
      "Submission CSV file created: 'submission.csv'\n"
     ]
    }
   ],
   "source": [
    "import numpy as np\n",
    "import pandas as pd\n",
    "import os\n",
    "from keras.preprocessing import image\n",
    "\n",
    "# Directory containing the validation images\n",
    "validation_dir = 'AF_dataset/validation'\n",
    "\n",
    "# List to store the results\n",
    "results = []\n",
    "\n",
    "# Loop over all images in the validation folder\n",
    "for filename in os.listdir(validation_dir):\n",
    "    # Load each image with the target size of (64, 64)\n",
    "    img_path = os.path.join(validation_dir, filename)\n",
    "    test_image = image.load_img(img_path, target_size=(64, 64))\n",
    "    \n",
    "    # Convert the image to an array and add batch dimension\n",
    "    test_image = image.img_to_array(test_image)\n",
    "    test_image = np.expand_dims(test_image, axis=0)\n",
    "    \n",
    "    # Predict the class\n",
    "    result = cnn.predict(test_image)\n",
    "    \n",
    "    # Decode the result\n",
    "    if result[0][0] == 0:\n",
    "        prediction = 1  # pinguin\n",
    "    else:\n",
    "        prediction = 2  # turtle\n",
    "    \n",
    "    # Append the filename and predicted class to the results list\n",
    "    results.append([filename, prediction])\n",
    "\n",
    "# Create a DataFrame from the results\n",
    "submission_df = pd.DataFrame(results, columns=['filename', 'class_id'])\n",
    "\n"
   ]
  },
  {
   "cell_type": "code",
   "execution_count": 105,
   "metadata": {},
   "outputs": [
    {
     "data": {
      "text/html": [
       "<div>\n",
       "<style scoped>\n",
       "    .dataframe tbody tr th:only-of-type {\n",
       "        vertical-align: middle;\n",
       "    }\n",
       "\n",
       "    .dataframe tbody tr th {\n",
       "        vertical-align: top;\n",
       "    }\n",
       "\n",
       "    .dataframe thead th {\n",
       "        text-align: right;\n",
       "    }\n",
       "</style>\n",
       "<table border=\"1\" class=\"dataframe\">\n",
       "  <thead>\n",
       "    <tr style=\"text-align: right;\">\n",
       "      <th></th>\n",
       "      <th>filename</th>\n",
       "      <th>class_id</th>\n",
       "    </tr>\n",
       "  </thead>\n",
       "  <tbody>\n",
       "    <tr>\n",
       "      <th>0</th>\n",
       "      <td>image_id_004_.jpg</td>\n",
       "      <td>2</td>\n",
       "    </tr>\n",
       "    <tr>\n",
       "      <th>1</th>\n",
       "      <td>image_id_010_.jpg</td>\n",
       "      <td>1</td>\n",
       "    </tr>\n",
       "    <tr>\n",
       "      <th>2</th>\n",
       "      <td>image_id_016_.jpg</td>\n",
       "      <td>2</td>\n",
       "    </tr>\n",
       "    <tr>\n",
       "      <th>3</th>\n",
       "      <td>image_id_024_.jpg</td>\n",
       "      <td>1</td>\n",
       "    </tr>\n",
       "    <tr>\n",
       "      <th>4</th>\n",
       "      <td>image_id_033_.jpg</td>\n",
       "      <td>1</td>\n",
       "    </tr>\n",
       "  </tbody>\n",
       "</table>\n",
       "</div>"
      ],
      "text/plain": [
       "            filename  class_id\n",
       "0  image_id_004_.jpg         2\n",
       "1  image_id_010_.jpg         1\n",
       "2  image_id_016_.jpg         2\n",
       "3  image_id_024_.jpg         1\n",
       "4  image_id_033_.jpg         1"
      ]
     },
     "execution_count": 105,
     "metadata": {},
     "output_type": "execute_result"
    }
   ],
   "source": [
    "validation_data = pd.read_csv('AF_dataset/test.csv')\n",
    "submission_df_2 = validation_data\n",
    "merged_df = pd.merge(submission_df_2, submission_df[['filename', 'class_id']], on='filename', how='left')\n",
    "\n",
    "# Update the 'class_id' in submission_df_2 with the values from the merged DataFrame\n",
    "submission_df_2['class_id'] = merged_df['class_id']\n",
    "\n",
    "# Print the updated DataFrame\n",
    "submission_df_2.head()\n",
    "\n",
    "# # Save the DataFrame to a CSV file\n",
    "# submission_df.to_csv('submission.csv', index=False)\n",
    "\n",
    "# print(\"Submission CSV file created: 'submission.csv'\")"
   ]
  },
  {
   "cell_type": "code",
   "execution_count": 106,
   "metadata": {},
   "outputs": [
    {
     "data": {
      "text/html": [
       "<div>\n",
       "<style scoped>\n",
       "    .dataframe tbody tr th:only-of-type {\n",
       "        vertical-align: middle;\n",
       "    }\n",
       "\n",
       "    .dataframe tbody tr th {\n",
       "        vertical-align: top;\n",
       "    }\n",
       "\n",
       "    .dataframe thead th {\n",
       "        text-align: right;\n",
       "    }\n",
       "</style>\n",
       "<table border=\"1\" class=\"dataframe\">\n",
       "  <thead>\n",
       "    <tr style=\"text-align: right;\">\n",
       "      <th></th>\n",
       "      <th>filename</th>\n",
       "      <th>class_id</th>\n",
       "    </tr>\n",
       "  </thead>\n",
       "  <tbody>\n",
       "    <tr>\n",
       "      <th>3</th>\n",
       "      <td>image_id_033_.jpg</td>\n",
       "      <td>1</td>\n",
       "    </tr>\n",
       "  </tbody>\n",
       "</table>\n",
       "</div>"
      ],
      "text/plain": [
       "            filename  class_id\n",
       "3  image_id_033_.jpg         1"
      ]
     },
     "execution_count": 106,
     "metadata": {},
     "output_type": "execute_result"
    }
   ],
   "source": [
    "submission_df[submission_df['filename'] == 'image_id_033_.jpg']"
   ]
  },
  {
   "cell_type": "code",
   "execution_count": 108,
   "metadata": {},
   "outputs": [],
   "source": [
    "# Save the DataFrame to a CSV file\n",
    "submission_df_2.to_csv('submission_2.csv', index=False)"
   ]
  },
  {
   "cell_type": "markdown",
   "metadata": {},
   "source": [
    "# Quick test"
   ]
  },
  {
   "cell_type": "code",
   "execution_count": 95,
   "metadata": {},
   "outputs": [
    {
     "name": "stdout",
     "output_type": "stream",
     "text": [
      "AF_dataset/images/image_id_004_.jpg AF_dataset/validation\n",
      "==============================\n",
      "AF_dataset/images/image_id_010_.jpg AF_dataset/validation\n",
      "==============================\n",
      "AF_dataset/images/image_id_016_.jpg AF_dataset/validation\n",
      "==============================\n",
      "AF_dataset/images/image_id_024_.jpg AF_dataset/validation\n",
      "==============================\n",
      "AF_dataset/images/image_id_033_.jpg AF_dataset/validation\n",
      "==============================\n",
      "AF_dataset/images/image_id_034_.jpg AF_dataset/validation\n",
      "==============================\n",
      "AF_dataset/images/image_id_037_.jpg AF_dataset/validation\n",
      "==============================\n",
      "AF_dataset/images/image_id_038_.jpg AF_dataset/validation\n",
      "==============================\n",
      "AF_dataset/images/image_id_043_.jpg AF_dataset/validation\n",
      "==============================\n",
      "AF_dataset/images/image_id_050_.jpg AF_dataset/validation\n",
      "==============================\n",
      "AF_dataset/images/image_id_054_.jpg AF_dataset/validation\n",
      "==============================\n",
      "AF_dataset/images/image_id_066_.jpg AF_dataset/validation\n",
      "==============================\n",
      "AF_dataset/images/image_id_073_.jpg AF_dataset/validation\n",
      "==============================\n",
      "AF_dataset/images/image_id_075_.jpg AF_dataset/validation\n",
      "==============================\n",
      "AF_dataset/images/image_id_076_.jpg AF_dataset/validation\n",
      "==============================\n",
      "AF_dataset/images/image_id_086_.jpg AF_dataset/validation\n",
      "==============================\n",
      "AF_dataset/images/image_id_090_.jpg AF_dataset/validation\n",
      "==============================\n",
      "AF_dataset/images/image_id_092_.jpg AF_dataset/validation\n",
      "==============================\n",
      "AF_dataset/images/image_id_106_.jpg AF_dataset/validation\n",
      "==============================\n",
      "AF_dataset/images/image_id_110_.jpg AF_dataset/validation\n",
      "==============================\n",
      "AF_dataset/images/image_id_112_.jpg AF_dataset/validation\n",
      "==============================\n",
      "AF_dataset/images/image_id_115_.jpg AF_dataset/validation\n",
      "==============================\n",
      "AF_dataset/images/image_id_122_.jpg AF_dataset/validation\n",
      "==============================\n",
      "AF_dataset/images/image_id_124_.jpg AF_dataset/validation\n",
      "==============================\n",
      "AF_dataset/images/image_id_129_.jpg AF_dataset/validation\n",
      "==============================\n",
      "AF_dataset/images/image_id_154_.jpg AF_dataset/validation\n",
      "==============================\n",
      "AF_dataset/images/image_id_156_.jpg AF_dataset/validation\n",
      "==============================\n",
      "AF_dataset/images/image_id_174_.jpg AF_dataset/validation\n",
      "==============================\n",
      "AF_dataset/images/image_id_177_.jpg AF_dataset/validation\n",
      "==============================\n",
      "AF_dataset/images/image_id_180_.jpg AF_dataset/validation\n",
      "==============================\n",
      "AF_dataset/images/image_id_183_.jpg AF_dataset/validation\n",
      "==============================\n",
      "AF_dataset/images/image_id_185_.jpg AF_dataset/validation\n",
      "==============================\n",
      "AF_dataset/images/image_id_187_.jpg AF_dataset/validation\n",
      "==============================\n",
      "AF_dataset/images/image_id_189_.jpg AF_dataset/validation\n",
      "==============================\n",
      "AF_dataset/images/image_id_190_.jpg AF_dataset/validation\n",
      "==============================\n",
      "AF_dataset/images/image_id_193_.jpg AF_dataset/validation\n",
      "==============================\n",
      "AF_dataset/images/image_id_208_.jpg AF_dataset/validation\n",
      "==============================\n",
      "AF_dataset/images/image_id_212_.jpg AF_dataset/validation\n",
      "==============================\n",
      "AF_dataset/images/image_id_221_.jpg AF_dataset/validation\n",
      "==============================\n",
      "AF_dataset/images/image_id_223_.jpg AF_dataset/validation\n",
      "==============================\n",
      "AF_dataset/images/image_id_224_.jpg AF_dataset/validation\n",
      "==============================\n",
      "AF_dataset/images/image_id_228_.jpg AF_dataset/validation\n",
      "==============================\n",
      "AF_dataset/images/image_id_239_.jpg AF_dataset/validation\n",
      "==============================\n",
      "AF_dataset/images/image_id_247_.jpg AF_dataset/validation\n",
      "==============================\n",
      "AF_dataset/images/image_id_250_.jpg AF_dataset/validation\n",
      "==============================\n",
      "AF_dataset/images/image_id_263_.jpg AF_dataset/validation\n",
      "==============================\n",
      "AF_dataset/images/image_id_264_.jpg AF_dataset/validation\n",
      "==============================\n",
      "AF_dataset/images/image_id_265_.jpg AF_dataset/validation\n",
      "==============================\n",
      "AF_dataset/images/image_id_268_.jpg AF_dataset/validation\n",
      "==============================\n",
      "AF_dataset/images/image_id_273_.jpg AF_dataset/validation\n",
      "==============================\n",
      "AF_dataset/images/image_id_287_.jpg AF_dataset/validation\n",
      "==============================\n",
      "AF_dataset/images/image_id_304_.jpg AF_dataset/validation\n",
      "==============================\n",
      "AF_dataset/images/image_id_307_.jpg AF_dataset/validation\n",
      "==============================\n",
      "AF_dataset/images/image_id_310_.jpg AF_dataset/validation\n",
      "==============================\n",
      "AF_dataset/images/image_id_312_.jpg AF_dataset/validation\n",
      "==============================\n",
      "AF_dataset/images/image_id_315_.jpg AF_dataset/validation\n",
      "==============================\n",
      "AF_dataset/images/image_id_328_.jpg AF_dataset/validation\n",
      "==============================\n",
      "AF_dataset/images/image_id_329_.jpg AF_dataset/validation\n",
      "==============================\n",
      "AF_dataset/images/image_id_337_.jpg AF_dataset/validation\n",
      "==============================\n",
      "AF_dataset/images/image_id_339_.jpg AF_dataset/validation\n",
      "==============================\n",
      "AF_dataset/images/image_id_344_.jpg AF_dataset/validation\n",
      "==============================\n",
      "AF_dataset/images/image_id_348_.jpg AF_dataset/validation\n",
      "==============================\n",
      "AF_dataset/images/image_id_352_.jpg AF_dataset/validation\n",
      "==============================\n",
      "AF_dataset/images/image_id_357_.jpg AF_dataset/validation\n",
      "==============================\n",
      "AF_dataset/images/image_id_365_.jpg AF_dataset/validation\n",
      "==============================\n",
      "AF_dataset/images/image_id_369_.jpg AF_dataset/validation\n",
      "==============================\n",
      "AF_dataset/images/image_id_370_.jpg AF_dataset/validation\n",
      "==============================\n",
      "AF_dataset/images/image_id_377_.jpg AF_dataset/validation\n",
      "==============================\n",
      "AF_dataset/images/image_id_388_.jpg AF_dataset/validation\n",
      "==============================\n",
      "AF_dataset/images/image_id_389_.jpg AF_dataset/validation\n",
      "==============================\n",
      "AF_dataset/images/image_id_390_.jpg AF_dataset/validation\n",
      "==============================\n",
      "AF_dataset/images/image_id_394_.jpg AF_dataset/validation\n",
      "==============================\n",
      "AF_dataset/images/image_id_403_.jpg AF_dataset/validation\n",
      "==============================\n",
      "AF_dataset/images/image_id_410_.jpg AF_dataset/validation\n",
      "==============================\n",
      "AF_dataset/images/image_id_419_.jpg AF_dataset/validation\n",
      "==============================\n",
      "AF_dataset/images/image_id_430_.jpg AF_dataset/validation\n",
      "==============================\n",
      "AF_dataset/images/image_id_434_.jpg AF_dataset/validation\n",
      "==============================\n",
      "AF_dataset/images/image_id_442_.jpg AF_dataset/validation\n",
      "==============================\n",
      "AF_dataset/images/image_id_445_.jpg AF_dataset/validation\n",
      "==============================\n",
      "AF_dataset/images/image_id_458_.jpg AF_dataset/validation\n",
      "==============================\n",
      "AF_dataset/images/image_id_462_.jpg AF_dataset/validation\n",
      "==============================\n",
      "AF_dataset/images/image_id_471_.jpg AF_dataset/validation\n",
      "==============================\n",
      "AF_dataset/images/image_id_474_.jpg AF_dataset/validation\n",
      "==============================\n",
      "AF_dataset/images/image_id_477_.jpg AF_dataset/validation\n",
      "==============================\n",
      "AF_dataset/images/image_id_492_.jpg AF_dataset/validation\n",
      "==============================\n",
      "AF_dataset/images/image_id_495_.jpg AF_dataset/validation\n",
      "==============================\n",
      "AF_dataset/images/image_id_498_.jpg AF_dataset/validation\n",
      "==============================\n",
      "AF_dataset/images/image_id_500_.jpg AF_dataset/validation\n",
      "==============================\n",
      "AF_dataset/images/image_id_514_.jpg AF_dataset/validation\n",
      "==============================\n",
      "AF_dataset/images/image_id_519_.jpg AF_dataset/validation\n",
      "==============================\n",
      "AF_dataset/images/image_id_524_.jpg AF_dataset/validation\n",
      "==============================\n",
      "AF_dataset/images/image_id_527_.jpg AF_dataset/validation\n",
      "==============================\n",
      "AF_dataset/images/image_id_537_.jpg AF_dataset/validation\n",
      "==============================\n",
      "AF_dataset/images/image_id_545_.jpg AF_dataset/validation\n",
      "==============================\n",
      "AF_dataset/images/image_id_548_.jpg AF_dataset/validation\n",
      "==============================\n",
      "AF_dataset/images/image_id_551_.jpg AF_dataset/validation\n",
      "==============================\n",
      "AF_dataset/images/image_id_563_.jpg AF_dataset/validation\n",
      "==============================\n",
      "AF_dataset/images/image_id_571_.jpg AF_dataset/validation\n",
      "==============================\n"
     ]
    }
   ],
   "source": [
    "# # validation\n",
    "\n",
    "# path = 'AF_dataset'\n",
    "# validation_data = pd.read_csv('AF_dataset/test.csv')\n",
    "\n",
    "\n",
    "# for i, row in validation_data.iterrows():\n",
    "#     source_file = f'{path}/images/{row[\"filename\"]}'\n",
    "    \n",
    "#     destination_folder = f'AF_dataset/validation'\n",
    "    \n",
    "#     os.makedirs(destination_folder, exist_ok=True)\n",
    "#     # Define the destination file path\n",
    "#     destination_file = os.path.join(destination_folder)\n",
    "    \n",
    "#     # Copy the file to the destination folder\n",
    "#     shutil.copy(source_file, destination_file)\n",
    "#     print(source_file, destination_file)\n",
    "#     print('='*30)\n",
    "    \n",
    "#     # print(sample_image['filename'], sample_image['class_id'])# "
   ]
  }
 ],
 "metadata": {
  "colab": {
   "provenance": []
  },
  "kernelspec": {
   "display_name": "tf-macos",
   "language": "python",
   "name": "python3"
  },
  "language_info": {
   "codemirror_mode": {
    "name": "ipython",
    "version": 3
   },
   "file_extension": ".py",
   "mimetype": "text/x-python",
   "name": "python",
   "nbconvert_exporter": "python",
   "pygments_lexer": "ipython3",
   "version": "3.9.19"
  }
 },
 "nbformat": 4,
 "nbformat_minor": 0
}
